{
 "cells": [
  {
   "cell_type": "markdown",
   "metadata": {},
   "source": [
    "## Deliverable 2. Create a Customer Travel Destinations Map."
   ]
  },
  {
   "cell_type": "code",
   "execution_count": 36,
   "metadata": {},
   "outputs": [],
   "source": [
    "# Dependencies and Setup\n",
    "import pandas as pd\n",
    "import requests\n",
    "import gmaps\n",
    "import numpy as np\n",
    "\n",
    "# Import API key\n",
    "from config import g_key\n",
    "\n",
    "# Configure gmaps API key\n",
    "gmaps.configure(api_key = g_key)"
   ]
  },
  {
   "cell_type": "code",
   "execution_count": 37,
   "metadata": {},
   "outputs": [
    {
     "output_type": "execute_result",
     "data": {
      "text/plain": [
       "   City_ID          City Country                 Date      Lat       Lng  \\\n",
       "0        0    Hambantota      LK  2021-06-03 22:05:45   6.1241   81.1185   \n",
       "1        1  Punta Arenas      CL  2021-06-03 22:05:46 -53.1500  -70.9167   \n",
       "2        2    Port Keats      AU  2021-06-03 22:05:48 -14.2500  129.5500   \n",
       "3        3    Nikolskoye      RU  2021-06-03 22:05:50  59.7035   30.7861   \n",
       "4        4         Vardo      NO  2021-06-03 22:05:51  70.3705   31.1107   \n",
       "\n",
       "   Max Temp  Humidity  Cloudiness  Wind Speed Current Description  \n",
       "0     79.14       100          40       15.52    scattered clouds  \n",
       "1     35.11        93         100       11.99          light rain  \n",
       "2     74.53        64          92        7.61     overcast clouds  \n",
       "3     57.09        82          20        4.72          few clouds  \n",
       "4     51.03        63          20        9.95          few clouds  "
      ],
      "text/html": "<div>\n<style scoped>\n    .dataframe tbody tr th:only-of-type {\n        vertical-align: middle;\n    }\n\n    .dataframe tbody tr th {\n        vertical-align: top;\n    }\n\n    .dataframe thead th {\n        text-align: right;\n    }\n</style>\n<table border=\"1\" class=\"dataframe\">\n  <thead>\n    <tr style=\"text-align: right;\">\n      <th></th>\n      <th>City_ID</th>\n      <th>City</th>\n      <th>Country</th>\n      <th>Date</th>\n      <th>Lat</th>\n      <th>Lng</th>\n      <th>Max Temp</th>\n      <th>Humidity</th>\n      <th>Cloudiness</th>\n      <th>Wind Speed</th>\n      <th>Current Description</th>\n    </tr>\n  </thead>\n  <tbody>\n    <tr>\n      <th>0</th>\n      <td>0</td>\n      <td>Hambantota</td>\n      <td>LK</td>\n      <td>2021-06-03 22:05:45</td>\n      <td>6.1241</td>\n      <td>81.1185</td>\n      <td>79.14</td>\n      <td>100</td>\n      <td>40</td>\n      <td>15.52</td>\n      <td>scattered clouds</td>\n    </tr>\n    <tr>\n      <th>1</th>\n      <td>1</td>\n      <td>Punta Arenas</td>\n      <td>CL</td>\n      <td>2021-06-03 22:05:46</td>\n      <td>-53.1500</td>\n      <td>-70.9167</td>\n      <td>35.11</td>\n      <td>93</td>\n      <td>100</td>\n      <td>11.99</td>\n      <td>light rain</td>\n    </tr>\n    <tr>\n      <th>2</th>\n      <td>2</td>\n      <td>Port Keats</td>\n      <td>AU</td>\n      <td>2021-06-03 22:05:48</td>\n      <td>-14.2500</td>\n      <td>129.5500</td>\n      <td>74.53</td>\n      <td>64</td>\n      <td>92</td>\n      <td>7.61</td>\n      <td>overcast clouds</td>\n    </tr>\n    <tr>\n      <th>3</th>\n      <td>3</td>\n      <td>Nikolskoye</td>\n      <td>RU</td>\n      <td>2021-06-03 22:05:50</td>\n      <td>59.7035</td>\n      <td>30.7861</td>\n      <td>57.09</td>\n      <td>82</td>\n      <td>20</td>\n      <td>4.72</td>\n      <td>few clouds</td>\n    </tr>\n    <tr>\n      <th>4</th>\n      <td>4</td>\n      <td>Vardo</td>\n      <td>NO</td>\n      <td>2021-06-03 22:05:51</td>\n      <td>70.3705</td>\n      <td>31.1107</td>\n      <td>51.03</td>\n      <td>63</td>\n      <td>20</td>\n      <td>9.95</td>\n      <td>few clouds</td>\n    </tr>\n  </tbody>\n</table>\n</div>"
     },
     "metadata": {},
     "execution_count": 37
    }
   ],
   "source": [
    "# 1. Import the WeatherPy_database.csv file. \n",
    "city_data_df = pd.read_csv(\"../Weather_Database/WeatherPy_database.csv\")\n",
    "city_data_df.head()"
   ]
  },
  {
   "cell_type": "code",
   "execution_count": 38,
   "metadata": {},
   "outputs": [],
   "source": [
    "# 2. Prompt the user to enter minimum and maximum temperature criteria \n",
    "min_temp = int(input(\"What is the minimum temperature you would like for your trip?\"))\n",
    "max_temp = int(input(\"What is the maximum temperature you would like for your trip?\"))"
   ]
  },
  {
   "cell_type": "code",
   "execution_count": 39,
   "metadata": {},
   "outputs": [
    {
     "output_type": "execute_result",
     "data": {
      "text/plain": [
       "    City_ID        City Country                 Date      Lat       Lng  \\\n",
       "3         3  Nikolskoye      RU  2021-06-03 22:05:50  59.7035   30.7861   \n",
       "4         4       Vardo      NO  2021-06-03 22:05:51  70.3705   31.1107   \n",
       "6         6  Chokurdakh      RU  2021-06-03 22:05:54  70.6333  147.9167   \n",
       "18       18    Chibombo      ZM  2021-06-03 22:06:12 -14.6569   28.0706   \n",
       "19       19    Bilibino      RU  2021-06-03 22:06:13  68.0546  166.4372   \n",
       "\n",
       "    Max Temp  Humidity  Cloudiness  Wind Speed Current Description  \n",
       "3      57.09        82          20        4.72          few clouds  \n",
       "4      51.03        63          20        9.95          few clouds  \n",
       "6      57.34        58         100        2.46     overcast clouds  \n",
       "18     57.74        55          12        3.62          few clouds  \n",
       "19     57.78        34          12        1.70          few clouds  "
      ],
      "text/html": "<div>\n<style scoped>\n    .dataframe tbody tr th:only-of-type {\n        vertical-align: middle;\n    }\n\n    .dataframe tbody tr th {\n        vertical-align: top;\n    }\n\n    .dataframe thead th {\n        text-align: right;\n    }\n</style>\n<table border=\"1\" class=\"dataframe\">\n  <thead>\n    <tr style=\"text-align: right;\">\n      <th></th>\n      <th>City_ID</th>\n      <th>City</th>\n      <th>Country</th>\n      <th>Date</th>\n      <th>Lat</th>\n      <th>Lng</th>\n      <th>Max Temp</th>\n      <th>Humidity</th>\n      <th>Cloudiness</th>\n      <th>Wind Speed</th>\n      <th>Current Description</th>\n    </tr>\n  </thead>\n  <tbody>\n    <tr>\n      <th>3</th>\n      <td>3</td>\n      <td>Nikolskoye</td>\n      <td>RU</td>\n      <td>2021-06-03 22:05:50</td>\n      <td>59.7035</td>\n      <td>30.7861</td>\n      <td>57.09</td>\n      <td>82</td>\n      <td>20</td>\n      <td>4.72</td>\n      <td>few clouds</td>\n    </tr>\n    <tr>\n      <th>4</th>\n      <td>4</td>\n      <td>Vardo</td>\n      <td>NO</td>\n      <td>2021-06-03 22:05:51</td>\n      <td>70.3705</td>\n      <td>31.1107</td>\n      <td>51.03</td>\n      <td>63</td>\n      <td>20</td>\n      <td>9.95</td>\n      <td>few clouds</td>\n    </tr>\n    <tr>\n      <th>6</th>\n      <td>6</td>\n      <td>Chokurdakh</td>\n      <td>RU</td>\n      <td>2021-06-03 22:05:54</td>\n      <td>70.6333</td>\n      <td>147.9167</td>\n      <td>57.34</td>\n      <td>58</td>\n      <td>100</td>\n      <td>2.46</td>\n      <td>overcast clouds</td>\n    </tr>\n    <tr>\n      <th>18</th>\n      <td>18</td>\n      <td>Chibombo</td>\n      <td>ZM</td>\n      <td>2021-06-03 22:06:12</td>\n      <td>-14.6569</td>\n      <td>28.0706</td>\n      <td>57.74</td>\n      <td>55</td>\n      <td>12</td>\n      <td>3.62</td>\n      <td>few clouds</td>\n    </tr>\n    <tr>\n      <th>19</th>\n      <td>19</td>\n      <td>Bilibino</td>\n      <td>RU</td>\n      <td>2021-06-03 22:06:13</td>\n      <td>68.0546</td>\n      <td>166.4372</td>\n      <td>57.78</td>\n      <td>34</td>\n      <td>12</td>\n      <td>1.70</td>\n      <td>few clouds</td>\n    </tr>\n  </tbody>\n</table>\n</div>"
     },
     "metadata": {},
     "execution_count": 39
    }
   ],
   "source": [
    "# 3. Filter the city_data_df DataFrame using the input statements to create a new DataFrame using the loc method.\n",
    "filtered_city_data_df = city_data_df.loc[(city_data_df[\"Max Temp\"] >= min_temp) & (city_data_df[\"Max Temp\"] <= max_temp)]\n",
    "filtered_city_data_df.head()"
   ]
  },
  {
   "cell_type": "code",
   "execution_count": 40,
   "metadata": {},
   "outputs": [
    {
     "output_type": "execute_result",
     "data": {
      "text/plain": [
       "     City_ID   City  Country   Date    Lat    Lng  Max Temp  Humidity  \\\n",
       "3      False  False    False  False  False  False     False     False   \n",
       "4      False  False    False  False  False  False     False     False   \n",
       "6      False  False    False  False  False  False     False     False   \n",
       "18     False  False    False  False  False  False     False     False   \n",
       "19     False  False    False  False  False  False     False     False   \n",
       "..       ...    ...      ...    ...    ...    ...       ...       ...   \n",
       "669    False  False    False  False  False  False     False     False   \n",
       "675    False  False    False  False  False  False     False     False   \n",
       "676    False  False    False  False  False  False     False     False   \n",
       "677    False  False    False  False  False  False     False     False   \n",
       "678    False  False    False  False  False  False     False     False   \n",
       "\n",
       "     Cloudiness  Wind Speed  Current Description  \n",
       "3         False       False                False  \n",
       "4         False       False                False  \n",
       "6         False       False                False  \n",
       "18        False       False                False  \n",
       "19        False       False                False  \n",
       "..          ...         ...                  ...  \n",
       "669       False       False                False  \n",
       "675       False       False                False  \n",
       "676       False       False                False  \n",
       "677       False       False                False  \n",
       "678       False       False                False  \n",
       "\n",
       "[179 rows x 11 columns]"
      ],
      "text/html": "<div>\n<style scoped>\n    .dataframe tbody tr th:only-of-type {\n        vertical-align: middle;\n    }\n\n    .dataframe tbody tr th {\n        vertical-align: top;\n    }\n\n    .dataframe thead th {\n        text-align: right;\n    }\n</style>\n<table border=\"1\" class=\"dataframe\">\n  <thead>\n    <tr style=\"text-align: right;\">\n      <th></th>\n      <th>City_ID</th>\n      <th>City</th>\n      <th>Country</th>\n      <th>Date</th>\n      <th>Lat</th>\n      <th>Lng</th>\n      <th>Max Temp</th>\n      <th>Humidity</th>\n      <th>Cloudiness</th>\n      <th>Wind Speed</th>\n      <th>Current Description</th>\n    </tr>\n  </thead>\n  <tbody>\n    <tr>\n      <th>3</th>\n      <td>False</td>\n      <td>False</td>\n      <td>False</td>\n      <td>False</td>\n      <td>False</td>\n      <td>False</td>\n      <td>False</td>\n      <td>False</td>\n      <td>False</td>\n      <td>False</td>\n      <td>False</td>\n    </tr>\n    <tr>\n      <th>4</th>\n      <td>False</td>\n      <td>False</td>\n      <td>False</td>\n      <td>False</td>\n      <td>False</td>\n      <td>False</td>\n      <td>False</td>\n      <td>False</td>\n      <td>False</td>\n      <td>False</td>\n      <td>False</td>\n    </tr>\n    <tr>\n      <th>6</th>\n      <td>False</td>\n      <td>False</td>\n      <td>False</td>\n      <td>False</td>\n      <td>False</td>\n      <td>False</td>\n      <td>False</td>\n      <td>False</td>\n      <td>False</td>\n      <td>False</td>\n      <td>False</td>\n    </tr>\n    <tr>\n      <th>18</th>\n      <td>False</td>\n      <td>False</td>\n      <td>False</td>\n      <td>False</td>\n      <td>False</td>\n      <td>False</td>\n      <td>False</td>\n      <td>False</td>\n      <td>False</td>\n      <td>False</td>\n      <td>False</td>\n    </tr>\n    <tr>\n      <th>19</th>\n      <td>False</td>\n      <td>False</td>\n      <td>False</td>\n      <td>False</td>\n      <td>False</td>\n      <td>False</td>\n      <td>False</td>\n      <td>False</td>\n      <td>False</td>\n      <td>False</td>\n      <td>False</td>\n    </tr>\n    <tr>\n      <th>...</th>\n      <td>...</td>\n      <td>...</td>\n      <td>...</td>\n      <td>...</td>\n      <td>...</td>\n      <td>...</td>\n      <td>...</td>\n      <td>...</td>\n      <td>...</td>\n      <td>...</td>\n      <td>...</td>\n    </tr>\n    <tr>\n      <th>669</th>\n      <td>False</td>\n      <td>False</td>\n      <td>False</td>\n      <td>False</td>\n      <td>False</td>\n      <td>False</td>\n      <td>False</td>\n      <td>False</td>\n      <td>False</td>\n      <td>False</td>\n      <td>False</td>\n    </tr>\n    <tr>\n      <th>675</th>\n      <td>False</td>\n      <td>False</td>\n      <td>False</td>\n      <td>False</td>\n      <td>False</td>\n      <td>False</td>\n      <td>False</td>\n      <td>False</td>\n      <td>False</td>\n      <td>False</td>\n      <td>False</td>\n    </tr>\n    <tr>\n      <th>676</th>\n      <td>False</td>\n      <td>False</td>\n      <td>False</td>\n      <td>False</td>\n      <td>False</td>\n      <td>False</td>\n      <td>False</td>\n      <td>False</td>\n      <td>False</td>\n      <td>False</td>\n      <td>False</td>\n    </tr>\n    <tr>\n      <th>677</th>\n      <td>False</td>\n      <td>False</td>\n      <td>False</td>\n      <td>False</td>\n      <td>False</td>\n      <td>False</td>\n      <td>False</td>\n      <td>False</td>\n      <td>False</td>\n      <td>False</td>\n      <td>False</td>\n    </tr>\n    <tr>\n      <th>678</th>\n      <td>False</td>\n      <td>False</td>\n      <td>False</td>\n      <td>False</td>\n      <td>False</td>\n      <td>False</td>\n      <td>False</td>\n      <td>False</td>\n      <td>False</td>\n      <td>False</td>\n      <td>False</td>\n    </tr>\n  </tbody>\n</table>\n<p>179 rows × 11 columns</p>\n</div>"
     },
     "metadata": {},
     "execution_count": 40
    }
   ],
   "source": [
    "# 4a. Determine if there are any empty rows.\n",
    "filtered_city_data_df.isna()"
   ]
  },
  {
   "cell_type": "code",
   "execution_count": 41,
   "metadata": {},
   "outputs": [
    {
     "output_type": "execute_result",
     "data": {
      "text/plain": [
       "    City_ID        City Country                 Date      Lat       Lng  \\\n",
       "3         3  Nikolskoye      RU  2021-06-03 22:05:50  59.7035   30.7861   \n",
       "4         4       Vardo      NO  2021-06-03 22:05:51  70.3705   31.1107   \n",
       "6         6  Chokurdakh      RU  2021-06-03 22:05:54  70.6333  147.9167   \n",
       "18       18    Chibombo      ZM  2021-06-03 22:06:12 -14.6569   28.0706   \n",
       "19       19    Bilibino      RU  2021-06-03 22:06:13  68.0546  166.4372   \n",
       "\n",
       "    Max Temp  Humidity  Cloudiness  Wind Speed Current Description  \n",
       "3      57.09        82          20        4.72          few clouds  \n",
       "4      51.03        63          20        9.95          few clouds  \n",
       "6      57.34        58         100        2.46     overcast clouds  \n",
       "18     57.74        55          12        3.62          few clouds  \n",
       "19     57.78        34          12        1.70          few clouds  "
      ],
      "text/html": "<div>\n<style scoped>\n    .dataframe tbody tr th:only-of-type {\n        vertical-align: middle;\n    }\n\n    .dataframe tbody tr th {\n        vertical-align: top;\n    }\n\n    .dataframe thead th {\n        text-align: right;\n    }\n</style>\n<table border=\"1\" class=\"dataframe\">\n  <thead>\n    <tr style=\"text-align: right;\">\n      <th></th>\n      <th>City_ID</th>\n      <th>City</th>\n      <th>Country</th>\n      <th>Date</th>\n      <th>Lat</th>\n      <th>Lng</th>\n      <th>Max Temp</th>\n      <th>Humidity</th>\n      <th>Cloudiness</th>\n      <th>Wind Speed</th>\n      <th>Current Description</th>\n    </tr>\n  </thead>\n  <tbody>\n    <tr>\n      <th>3</th>\n      <td>3</td>\n      <td>Nikolskoye</td>\n      <td>RU</td>\n      <td>2021-06-03 22:05:50</td>\n      <td>59.7035</td>\n      <td>30.7861</td>\n      <td>57.09</td>\n      <td>82</td>\n      <td>20</td>\n      <td>4.72</td>\n      <td>few clouds</td>\n    </tr>\n    <tr>\n      <th>4</th>\n      <td>4</td>\n      <td>Vardo</td>\n      <td>NO</td>\n      <td>2021-06-03 22:05:51</td>\n      <td>70.3705</td>\n      <td>31.1107</td>\n      <td>51.03</td>\n      <td>63</td>\n      <td>20</td>\n      <td>9.95</td>\n      <td>few clouds</td>\n    </tr>\n    <tr>\n      <th>6</th>\n      <td>6</td>\n      <td>Chokurdakh</td>\n      <td>RU</td>\n      <td>2021-06-03 22:05:54</td>\n      <td>70.6333</td>\n      <td>147.9167</td>\n      <td>57.34</td>\n      <td>58</td>\n      <td>100</td>\n      <td>2.46</td>\n      <td>overcast clouds</td>\n    </tr>\n    <tr>\n      <th>18</th>\n      <td>18</td>\n      <td>Chibombo</td>\n      <td>ZM</td>\n      <td>2021-06-03 22:06:12</td>\n      <td>-14.6569</td>\n      <td>28.0706</td>\n      <td>57.74</td>\n      <td>55</td>\n      <td>12</td>\n      <td>3.62</td>\n      <td>few clouds</td>\n    </tr>\n    <tr>\n      <th>19</th>\n      <td>19</td>\n      <td>Bilibino</td>\n      <td>RU</td>\n      <td>2021-06-03 22:06:13</td>\n      <td>68.0546</td>\n      <td>166.4372</td>\n      <td>57.78</td>\n      <td>34</td>\n      <td>12</td>\n      <td>1.70</td>\n      <td>few clouds</td>\n    </tr>\n  </tbody>\n</table>\n</div>"
     },
     "metadata": {},
     "execution_count": 41
    }
   ],
   "source": [
    "# 4b. Drop any empty rows and create a new DataFrame that doesn’t have empty rows.\n",
    "filtered_city_data_df = filtered_city_data_df.dropna()\n",
    "filtered_city_data_df.head()"
   ]
  },
  {
   "cell_type": "code",
   "execution_count": 42,
   "metadata": {},
   "outputs": [
    {
     "output_type": "execute_result",
     "data": {
      "text/plain": [
       "           City Country  Max Temp Current Description      Lat       Lng  \\\n",
       "3    Nikolskoye      RU     57.09          few clouds  59.7035   30.7861   \n",
       "4         Vardo      NO     51.03          few clouds  70.3705   31.1107   \n",
       "6    Chokurdakh      RU     57.34     overcast clouds  70.6333  147.9167   \n",
       "18     Chibombo      ZM     57.74          few clouds -14.6569   28.0706   \n",
       "19     Bilibino      RU     57.78          few clouds  68.0546  166.4372   \n",
       "22  Port Alfred      ZA     56.59       broken clouds -33.5906   26.8910   \n",
       "27   Bredasdorp      ZA     55.27     overcast clouds -34.5322   20.0403   \n",
       "28        Vagur      FO     48.97    scattered clouds  61.4732   -6.8119   \n",
       "29  Yellowknife      CA     51.84          light rain  62.4560 -114.3525   \n",
       "32  New Norfolk      AU     47.70     overcast clouds -42.7826  147.0587   \n",
       "\n",
       "   Hotel Name  \n",
       "3              \n",
       "4              \n",
       "6              \n",
       "18             \n",
       "19             \n",
       "22             \n",
       "27             \n",
       "28             \n",
       "29             \n",
       "32             "
      ],
      "text/html": "<div>\n<style scoped>\n    .dataframe tbody tr th:only-of-type {\n        vertical-align: middle;\n    }\n\n    .dataframe tbody tr th {\n        vertical-align: top;\n    }\n\n    .dataframe thead th {\n        text-align: right;\n    }\n</style>\n<table border=\"1\" class=\"dataframe\">\n  <thead>\n    <tr style=\"text-align: right;\">\n      <th></th>\n      <th>City</th>\n      <th>Country</th>\n      <th>Max Temp</th>\n      <th>Current Description</th>\n      <th>Lat</th>\n      <th>Lng</th>\n      <th>Hotel Name</th>\n    </tr>\n  </thead>\n  <tbody>\n    <tr>\n      <th>3</th>\n      <td>Nikolskoye</td>\n      <td>RU</td>\n      <td>57.09</td>\n      <td>few clouds</td>\n      <td>59.7035</td>\n      <td>30.7861</td>\n      <td></td>\n    </tr>\n    <tr>\n      <th>4</th>\n      <td>Vardo</td>\n      <td>NO</td>\n      <td>51.03</td>\n      <td>few clouds</td>\n      <td>70.3705</td>\n      <td>31.1107</td>\n      <td></td>\n    </tr>\n    <tr>\n      <th>6</th>\n      <td>Chokurdakh</td>\n      <td>RU</td>\n      <td>57.34</td>\n      <td>overcast clouds</td>\n      <td>70.6333</td>\n      <td>147.9167</td>\n      <td></td>\n    </tr>\n    <tr>\n      <th>18</th>\n      <td>Chibombo</td>\n      <td>ZM</td>\n      <td>57.74</td>\n      <td>few clouds</td>\n      <td>-14.6569</td>\n      <td>28.0706</td>\n      <td></td>\n    </tr>\n    <tr>\n      <th>19</th>\n      <td>Bilibino</td>\n      <td>RU</td>\n      <td>57.78</td>\n      <td>few clouds</td>\n      <td>68.0546</td>\n      <td>166.4372</td>\n      <td></td>\n    </tr>\n    <tr>\n      <th>22</th>\n      <td>Port Alfred</td>\n      <td>ZA</td>\n      <td>56.59</td>\n      <td>broken clouds</td>\n      <td>-33.5906</td>\n      <td>26.8910</td>\n      <td></td>\n    </tr>\n    <tr>\n      <th>27</th>\n      <td>Bredasdorp</td>\n      <td>ZA</td>\n      <td>55.27</td>\n      <td>overcast clouds</td>\n      <td>-34.5322</td>\n      <td>20.0403</td>\n      <td></td>\n    </tr>\n    <tr>\n      <th>28</th>\n      <td>Vagur</td>\n      <td>FO</td>\n      <td>48.97</td>\n      <td>scattered clouds</td>\n      <td>61.4732</td>\n      <td>-6.8119</td>\n      <td></td>\n    </tr>\n    <tr>\n      <th>29</th>\n      <td>Yellowknife</td>\n      <td>CA</td>\n      <td>51.84</td>\n      <td>light rain</td>\n      <td>62.4560</td>\n      <td>-114.3525</td>\n      <td></td>\n    </tr>\n    <tr>\n      <th>32</th>\n      <td>New Norfolk</td>\n      <td>AU</td>\n      <td>47.70</td>\n      <td>overcast clouds</td>\n      <td>-42.7826</td>\n      <td>147.0587</td>\n      <td></td>\n    </tr>\n  </tbody>\n</table>\n</div>"
     },
     "metadata": {},
     "execution_count": 42
    }
   ],
   "source": [
    "# 5a. Create DataFrame called hotel_df to store hotel names along with city, country, max temp, and coordinates.\n",
    "hotel_df = filtered_city_data_df[[\"City\", \"Country\", \"Max Temp\", \"Current Description\", \"Lat\", \"Lng\"]].copy()\n",
    "\n",
    "# 5b. Create a new column \"Hotel Name\"\n",
    "hotel_df[\"Hotel Name\"] = \"\"\n",
    "hotel_df.head(10)"
   ]
  },
  {
   "cell_type": "code",
   "execution_count": 43,
   "metadata": {},
   "outputs": [
    {
     "output_type": "stream",
     "name": "stdout",
     "text": [
      "Cannot find hotel...skipping.\n",
      "Cannot find hotel...skipping.\n",
      "Cannot find hotel...skipping.\n",
      "Cannot find hotel...skipping.\n",
      "Cannot find hotel...skipping.\n",
      "Cannot find hotel...skipping.\n",
      "Cannot find hotel...skipping.\n",
      "Cannot find hotel...skipping.\n",
      "Cannot find hotel...skipping.\n",
      "Cannot find hotel...skipping.\n",
      "Cannot find hotel...skipping.\n",
      "Cannot find hotel...skipping.\n",
      "Cannot find hotel...skipping.\n",
      "Cannot find hotel...skipping.\n"
     ]
    }
   ],
   "source": [
    "# 6a. Set parameters to search for hotels with 5000 meters.\n",
    "params = {\n",
    "    \"radius\": 5000,\n",
    "    \"type\": \"lodging\",\n",
    "    \"key\": g_key\n",
    "}\n",
    "\n",
    "# 6b. Iterate through the hotel DataFrame.\n",
    "for index, row in hotel_df.iterrows():\n",
    "    # 6c. Get latitude and longitude from DataFrame\n",
    "    lat = row[\"Lat\"]\n",
    "    lng = row[\"Lng\"]\n",
    "    params[\"location\"] = f\"{lat},{lng}\"\n",
    "    \n",
    "    \n",
    "    # 6d. Set up the base URL for the Google Directions API to get JSON data.\n",
    "    base_url = \"https://maps.googleapis.com/maps/api/place/nearbysearch/json\"\n",
    "\n",
    "    # 6e. Make request and retrieve the JSON data from the search. \n",
    "    hotels = requests.get(base_url, params=params).json()\n",
    "    \n",
    "    # 6f. Get the first hotel from the results and store the name, if a hotel isn't found skip the city.\n",
    "    try:\n",
    "        hotel_df.loc[index, \"Hotel Name\"] = hotels[\"results\"][0][\"name\"]\n",
    "        \n",
    "    except (IndexError):\n",
    "        print(\"Cannot find hotel...skipping.\")"
   ]
  },
  {
   "cell_type": "code",
   "execution_count": 44,
   "metadata": {},
   "outputs": [
    {
     "output_type": "execute_result",
     "data": {
      "text/plain": [
       "            City Country  Max Temp Current Description      Lat       Lng  \\\n",
       "3     Nikolskoye      RU     57.09          few clouds  59.7035   30.7861   \n",
       "4          Vardo      NO     51.03          few clouds  70.3705   31.1107   \n",
       "6     Chokurdakh      RU     57.34     overcast clouds  70.6333  147.9167   \n",
       "18      Chibombo      ZM     57.74          few clouds -14.6569   28.0706   \n",
       "19      Bilibino      RU     57.78          few clouds  68.0546  166.4372   \n",
       "..           ...     ...       ...                 ...      ...       ...   \n",
       "669       Wufeng      CN     51.21     overcast clouds  27.4500  104.8333   \n",
       "675       Potosi      BO     46.76    scattered clouds -19.5836  -65.7531   \n",
       "676       Helong      CN     55.67    scattered clouds  42.5397  128.9972   \n",
       "677      Jiuquan      CN     59.70           clear sky  39.7432   98.5174   \n",
       "678  Yerbogachen      RU     59.81       broken clouds  61.2767  108.0108   \n",
       "\n",
       "                                Hotel Name  \n",
       "3                  Tourist House - Sablino  \n",
       "4                           Vardø Hotel AS  \n",
       "6                                           \n",
       "18   Chibombo District Council Guest House  \n",
       "19                   Gostinitsa Severyanka  \n",
       "..                                     ...  \n",
       "669                                   中山宾馆  \n",
       "675                Hostal La Casona Potosí  \n",
       "676                           Helong Hotel  \n",
       "677                          Jiuquan Hotel  \n",
       "678                                         \n",
       "\n",
       "[176 rows x 7 columns]"
      ],
      "text/html": "<div>\n<style scoped>\n    .dataframe tbody tr th:only-of-type {\n        vertical-align: middle;\n    }\n\n    .dataframe tbody tr th {\n        vertical-align: top;\n    }\n\n    .dataframe thead th {\n        text-align: right;\n    }\n</style>\n<table border=\"1\" class=\"dataframe\">\n  <thead>\n    <tr style=\"text-align: right;\">\n      <th></th>\n      <th>City</th>\n      <th>Country</th>\n      <th>Max Temp</th>\n      <th>Current Description</th>\n      <th>Lat</th>\n      <th>Lng</th>\n      <th>Hotel Name</th>\n    </tr>\n  </thead>\n  <tbody>\n    <tr>\n      <th>3</th>\n      <td>Nikolskoye</td>\n      <td>RU</td>\n      <td>57.09</td>\n      <td>few clouds</td>\n      <td>59.7035</td>\n      <td>30.7861</td>\n      <td>Tourist House - Sablino</td>\n    </tr>\n    <tr>\n      <th>4</th>\n      <td>Vardo</td>\n      <td>NO</td>\n      <td>51.03</td>\n      <td>few clouds</td>\n      <td>70.3705</td>\n      <td>31.1107</td>\n      <td>Vardø Hotel AS</td>\n    </tr>\n    <tr>\n      <th>6</th>\n      <td>Chokurdakh</td>\n      <td>RU</td>\n      <td>57.34</td>\n      <td>overcast clouds</td>\n      <td>70.6333</td>\n      <td>147.9167</td>\n      <td></td>\n    </tr>\n    <tr>\n      <th>18</th>\n      <td>Chibombo</td>\n      <td>ZM</td>\n      <td>57.74</td>\n      <td>few clouds</td>\n      <td>-14.6569</td>\n      <td>28.0706</td>\n      <td>Chibombo District Council Guest House</td>\n    </tr>\n    <tr>\n      <th>19</th>\n      <td>Bilibino</td>\n      <td>RU</td>\n      <td>57.78</td>\n      <td>few clouds</td>\n      <td>68.0546</td>\n      <td>166.4372</td>\n      <td>Gostinitsa Severyanka</td>\n    </tr>\n    <tr>\n      <th>...</th>\n      <td>...</td>\n      <td>...</td>\n      <td>...</td>\n      <td>...</td>\n      <td>...</td>\n      <td>...</td>\n      <td>...</td>\n    </tr>\n    <tr>\n      <th>669</th>\n      <td>Wufeng</td>\n      <td>CN</td>\n      <td>51.21</td>\n      <td>overcast clouds</td>\n      <td>27.4500</td>\n      <td>104.8333</td>\n      <td>中山宾馆</td>\n    </tr>\n    <tr>\n      <th>675</th>\n      <td>Potosi</td>\n      <td>BO</td>\n      <td>46.76</td>\n      <td>scattered clouds</td>\n      <td>-19.5836</td>\n      <td>-65.7531</td>\n      <td>Hostal La Casona Potosí</td>\n    </tr>\n    <tr>\n      <th>676</th>\n      <td>Helong</td>\n      <td>CN</td>\n      <td>55.67</td>\n      <td>scattered clouds</td>\n      <td>42.5397</td>\n      <td>128.9972</td>\n      <td>Helong Hotel</td>\n    </tr>\n    <tr>\n      <th>677</th>\n      <td>Jiuquan</td>\n      <td>CN</td>\n      <td>59.70</td>\n      <td>clear sky</td>\n      <td>39.7432</td>\n      <td>98.5174</td>\n      <td>Jiuquan Hotel</td>\n    </tr>\n    <tr>\n      <th>678</th>\n      <td>Yerbogachen</td>\n      <td>RU</td>\n      <td>59.81</td>\n      <td>broken clouds</td>\n      <td>61.2767</td>\n      <td>108.0108</td>\n      <td></td>\n    </tr>\n  </tbody>\n</table>\n<p>176 rows × 7 columns</p>\n</div>"
     },
     "metadata": {},
     "execution_count": 44
    }
   ],
   "source": [
    "hotel_df"
   ]
  },
  {
   "cell_type": "code",
   "execution_count": 45,
   "metadata": {},
   "outputs": [
    {
     "output_type": "execute_result",
     "data": {
      "text/plain": [
       "            City Country  Max Temp Current Description      Lat       Lng  \\\n",
       "3     Nikolskoye      RU     57.09          few clouds  59.7035   30.7861   \n",
       "4          Vardo      NO     51.03          few clouds  70.3705   31.1107   \n",
       "18      Chibombo      ZM     57.74          few clouds -14.6569   28.0706   \n",
       "19      Bilibino      RU     57.78          few clouds  68.0546  166.4372   \n",
       "22   Port Alfred      ZA     56.59       broken clouds -33.5906   26.8910   \n",
       "..           ...     ...       ...                 ...      ...       ...   \n",
       "666     Ilinskiy      RU     58.51           clear sky  55.6190   38.1182   \n",
       "669       Wufeng      CN     51.21     overcast clouds  27.4500  104.8333   \n",
       "675       Potosi      BO     46.76    scattered clouds -19.5836  -65.7531   \n",
       "676       Helong      CN     55.67    scattered clouds  42.5397  128.9972   \n",
       "677      Jiuquan      CN     59.70           clear sky  39.7432   98.5174   \n",
       "\n",
       "                                Hotel Name  \n",
       "3                  Tourist House - Sablino  \n",
       "4                           Vardø Hotel AS  \n",
       "18   Chibombo District Council Guest House  \n",
       "19                   Gostinitsa Severyanka  \n",
       "22                      The Halyards Hotel  \n",
       "..                                     ...  \n",
       "666                       Around the world  \n",
       "669                                   中山宾馆  \n",
       "675                Hostal La Casona Potosí  \n",
       "676                           Helong Hotel  \n",
       "677                          Jiuquan Hotel  \n",
       "\n",
       "[162 rows x 7 columns]"
      ],
      "text/html": "<div>\n<style scoped>\n    .dataframe tbody tr th:only-of-type {\n        vertical-align: middle;\n    }\n\n    .dataframe tbody tr th {\n        vertical-align: top;\n    }\n\n    .dataframe thead th {\n        text-align: right;\n    }\n</style>\n<table border=\"1\" class=\"dataframe\">\n  <thead>\n    <tr style=\"text-align: right;\">\n      <th></th>\n      <th>City</th>\n      <th>Country</th>\n      <th>Max Temp</th>\n      <th>Current Description</th>\n      <th>Lat</th>\n      <th>Lng</th>\n      <th>Hotel Name</th>\n    </tr>\n  </thead>\n  <tbody>\n    <tr>\n      <th>3</th>\n      <td>Nikolskoye</td>\n      <td>RU</td>\n      <td>57.09</td>\n      <td>few clouds</td>\n      <td>59.7035</td>\n      <td>30.7861</td>\n      <td>Tourist House - Sablino</td>\n    </tr>\n    <tr>\n      <th>4</th>\n      <td>Vardo</td>\n      <td>NO</td>\n      <td>51.03</td>\n      <td>few clouds</td>\n      <td>70.3705</td>\n      <td>31.1107</td>\n      <td>Vardø Hotel AS</td>\n    </tr>\n    <tr>\n      <th>18</th>\n      <td>Chibombo</td>\n      <td>ZM</td>\n      <td>57.74</td>\n      <td>few clouds</td>\n      <td>-14.6569</td>\n      <td>28.0706</td>\n      <td>Chibombo District Council Guest House</td>\n    </tr>\n    <tr>\n      <th>19</th>\n      <td>Bilibino</td>\n      <td>RU</td>\n      <td>57.78</td>\n      <td>few clouds</td>\n      <td>68.0546</td>\n      <td>166.4372</td>\n      <td>Gostinitsa Severyanka</td>\n    </tr>\n    <tr>\n      <th>22</th>\n      <td>Port Alfred</td>\n      <td>ZA</td>\n      <td>56.59</td>\n      <td>broken clouds</td>\n      <td>-33.5906</td>\n      <td>26.8910</td>\n      <td>The Halyards Hotel</td>\n    </tr>\n    <tr>\n      <th>...</th>\n      <td>...</td>\n      <td>...</td>\n      <td>...</td>\n      <td>...</td>\n      <td>...</td>\n      <td>...</td>\n      <td>...</td>\n    </tr>\n    <tr>\n      <th>666</th>\n      <td>Ilinskiy</td>\n      <td>RU</td>\n      <td>58.51</td>\n      <td>clear sky</td>\n      <td>55.6190</td>\n      <td>38.1182</td>\n      <td>Around the world</td>\n    </tr>\n    <tr>\n      <th>669</th>\n      <td>Wufeng</td>\n      <td>CN</td>\n      <td>51.21</td>\n      <td>overcast clouds</td>\n      <td>27.4500</td>\n      <td>104.8333</td>\n      <td>中山宾馆</td>\n    </tr>\n    <tr>\n      <th>675</th>\n      <td>Potosi</td>\n      <td>BO</td>\n      <td>46.76</td>\n      <td>scattered clouds</td>\n      <td>-19.5836</td>\n      <td>-65.7531</td>\n      <td>Hostal La Casona Potosí</td>\n    </tr>\n    <tr>\n      <th>676</th>\n      <td>Helong</td>\n      <td>CN</td>\n      <td>55.67</td>\n      <td>scattered clouds</td>\n      <td>42.5397</td>\n      <td>128.9972</td>\n      <td>Helong Hotel</td>\n    </tr>\n    <tr>\n      <th>677</th>\n      <td>Jiuquan</td>\n      <td>CN</td>\n      <td>59.70</td>\n      <td>clear sky</td>\n      <td>39.7432</td>\n      <td>98.5174</td>\n      <td>Jiuquan Hotel</td>\n    </tr>\n  </tbody>\n</table>\n<p>162 rows × 7 columns</p>\n</div>"
     },
     "metadata": {},
     "execution_count": 45
    }
   ],
   "source": [
    "# 7. Drop the rows where there is no Hotel Name.\n",
    "c = hotel_df.replace(r'^\\s*$', np.nan, regex=True)\n",
    "clean_hotel_df = c.dropna()\n",
    "clean_hotel_df"
   ]
  },
  {
   "cell_type": "code",
   "execution_count": 46,
   "metadata": {},
   "outputs": [],
   "source": [
    "# 8a. Create the output File (CSV)\n",
    "output_data_file = \"Weather_Search_Vacation.csv\"\n",
    "# 8b. Export the City_Data into a csv\n",
    "clean_hotel_df.to_csv(output_data_file, index_label=\"City_ID\")"
   ]
  },
  {
   "cell_type": "code",
   "execution_count": 47,
   "metadata": {},
   "outputs": [],
   "source": [
    "# 9. Using the template add city name, the country code, the weather description and maximum temperature for the city.\n",
    "info_box_template = \"\"\"<dl>\n",
    "<dt>Hotel Name</dt><dd>{Hotel Name}</dd>\n",
    "<dt>City</dt><dd>{City}</dd>\n",
    "<dt>Country</dt><dd>{Country}</dd>\n",
    "<dt>Weather Description</dt><dd>{Current Description}</dd>\n",
    "<dt>Max Temp</dt><dd>{Max Temp} °F</dd>\n",
    "</dl>\"\"\"\n",
    "\n",
    "# 10a. Get the data from each row and add it to the formatting template and store the data in a list.\n",
    "hotel_info = [info_box_template.format(**row) for index, row in clean_hotel_df.iterrows()]\n",
    "\n",
    "# 10b. Get the latitude and longitude from each row and store in a new DataFrame.\n",
    "locations = clean_hotel_df[[\"Lat\", \"Lng\"]]"
   ]
  },
  {
   "cell_type": "code",
   "execution_count": 48,
   "metadata": {},
   "outputs": [
    {
     "output_type": "display_data",
     "data": {
      "text/plain": "Figure(layout=FigureLayout(height='420px'))",
      "application/vnd.jupyter.widget-view+json": {
       "version_major": 2,
       "version_minor": 0,
       "model_id": "0dd9efed11764226953b8bff1c011911"
      }
     },
     "metadata": {}
    }
   ],
   "source": [
    "# 11a. Add a marker layer for each city to the map. \n",
    "marker_layer = gmaps.marker_layer(locations, info_box_content = hotel_info)\n",
    "# 11b. Display the figure\n",
    "fig = gmaps.figure(center=(30.0, 31.0), zoom_level=1.4)\n",
    "fig.add_layer(marker_layer)\n",
    "fig"
   ]
  },
  {
   "cell_type": "code",
   "execution_count": null,
   "metadata": {},
   "outputs": [],
   "source": []
  }
 ],
 "metadata": {
  "kernelspec": {
   "name": "python394jvsc74a57bd04e16bc90bb1be4fcd3e766e2f5d73f05719f516a7206bf1e9e77281fd34acfc0",
   "display_name": "Python 3.9.4 64-bit ('PythonData': conda)"
  },
  "language_info": {
   "codemirror_mode": {
    "name": "ipython",
    "version": 3
   },
   "file_extension": ".py",
   "mimetype": "text/x-python",
   "name": "python",
   "nbconvert_exporter": "python",
   "pygments_lexer": "ipython3",
   "version": "3.9.4"
  },
  "latex_envs": {
   "LaTeX_envs_menu_present": true,
   "autoclose": false,
   "autocomplete": true,
   "bibliofile": "biblio.bib",
   "cite_by": "apalike",
   "current_citInitial": 1,
   "eqLabelWithNumbers": true,
   "eqNumInitial": 1,
   "hotkeys": {
    "equation": "Ctrl-E",
    "itemize": "Ctrl-I"
   },
   "labels_anchors": false,
   "latex_user_defs": false,
   "report_style_numbering": false,
   "user_envs_cfg": false
  },
  "metadata": {
   "interpreter": {
    "hash": "4e16bc90bb1be4fcd3e766e2f5d73f05719f516a7206bf1e9e77281fd34acfc0"
   }
  }
 },
 "nbformat": 4,
 "nbformat_minor": 2
}