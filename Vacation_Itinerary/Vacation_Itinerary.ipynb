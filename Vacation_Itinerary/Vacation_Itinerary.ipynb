{
 "cells": [
  {
   "cell_type": "markdown",
   "metadata": {},
   "source": [
    "## Deliverable 3. Create a Travel Itinerary Map."
   ]
  },
  {
   "cell_type": "code",
   "execution_count": 2,
   "metadata": {},
   "outputs": [],
   "source": [
    "# Dependencies and Setup\n",
    "import pandas as pd\n",
    "import requests\n",
    "import gmaps\n",
    "import numpy as np\n",
    "import matplotlib as plt\n",
    "\n",
    "# Import API key\n",
    "from config import g_key\n",
    "\n",
    "# Configure gmaps\n",
    "gmaps.configure(api_key = g_key)"
   ]
  },
  {
   "cell_type": "code",
   "execution_count": 3,
   "metadata": {},
   "outputs": [
    {
     "output_type": "execute_result",
     "data": {
      "text/plain": [
       "     City_ID         City Country  Max Temp Current Description      Lat  \\\n",
       "0          3   Nikolskoye      RU     57.09          few clouds  59.7035   \n",
       "1          4        Vardo      NO     51.03          few clouds  70.3705   \n",
       "2         18     Chibombo      ZM     57.74          few clouds -14.6569   \n",
       "3         19     Bilibino      RU     57.78          few clouds  68.0546   \n",
       "4         22  Port Alfred      ZA     56.59       broken clouds -33.5906   \n",
       "..       ...          ...     ...       ...                 ...      ...   \n",
       "157      666     Ilinskiy      RU     58.51           clear sky  55.6190   \n",
       "158      669       Wufeng      CN     51.21     overcast clouds  27.4500   \n",
       "159      675       Potosi      BO     46.76    scattered clouds -19.5836   \n",
       "160      676       Helong      CN     55.67    scattered clouds  42.5397   \n",
       "161      677      Jiuquan      CN     59.70           clear sky  39.7432   \n",
       "\n",
       "          Lng                             Hotel Name  \n",
       "0     30.7861                Tourist House - Sablino  \n",
       "1     31.1107                         Vardø Hotel AS  \n",
       "2     28.0706  Chibombo District Council Guest House  \n",
       "3    166.4372                  Gostinitsa Severyanka  \n",
       "4     26.8910                     The Halyards Hotel  \n",
       "..        ...                                    ...  \n",
       "157   38.1182                       Around the world  \n",
       "158  104.8333                                   中山宾馆  \n",
       "159  -65.7531                Hostal La Casona Potosí  \n",
       "160  128.9972                           Helong Hotel  \n",
       "161   98.5174                          Jiuquan Hotel  \n",
       "\n",
       "[162 rows x 8 columns]"
      ],
      "text/html": "<div>\n<style scoped>\n    .dataframe tbody tr th:only-of-type {\n        vertical-align: middle;\n    }\n\n    .dataframe tbody tr th {\n        vertical-align: top;\n    }\n\n    .dataframe thead th {\n        text-align: right;\n    }\n</style>\n<table border=\"1\" class=\"dataframe\">\n  <thead>\n    <tr style=\"text-align: right;\">\n      <th></th>\n      <th>City_ID</th>\n      <th>City</th>\n      <th>Country</th>\n      <th>Max Temp</th>\n      <th>Current Description</th>\n      <th>Lat</th>\n      <th>Lng</th>\n      <th>Hotel Name</th>\n    </tr>\n  </thead>\n  <tbody>\n    <tr>\n      <th>0</th>\n      <td>3</td>\n      <td>Nikolskoye</td>\n      <td>RU</td>\n      <td>57.09</td>\n      <td>few clouds</td>\n      <td>59.7035</td>\n      <td>30.7861</td>\n      <td>Tourist House - Sablino</td>\n    </tr>\n    <tr>\n      <th>1</th>\n      <td>4</td>\n      <td>Vardo</td>\n      <td>NO</td>\n      <td>51.03</td>\n      <td>few clouds</td>\n      <td>70.3705</td>\n      <td>31.1107</td>\n      <td>Vardø Hotel AS</td>\n    </tr>\n    <tr>\n      <th>2</th>\n      <td>18</td>\n      <td>Chibombo</td>\n      <td>ZM</td>\n      <td>57.74</td>\n      <td>few clouds</td>\n      <td>-14.6569</td>\n      <td>28.0706</td>\n      <td>Chibombo District Council Guest House</td>\n    </tr>\n    <tr>\n      <th>3</th>\n      <td>19</td>\n      <td>Bilibino</td>\n      <td>RU</td>\n      <td>57.78</td>\n      <td>few clouds</td>\n      <td>68.0546</td>\n      <td>166.4372</td>\n      <td>Gostinitsa Severyanka</td>\n    </tr>\n    <tr>\n      <th>4</th>\n      <td>22</td>\n      <td>Port Alfred</td>\n      <td>ZA</td>\n      <td>56.59</td>\n      <td>broken clouds</td>\n      <td>-33.5906</td>\n      <td>26.8910</td>\n      <td>The Halyards Hotel</td>\n    </tr>\n    <tr>\n      <th>...</th>\n      <td>...</td>\n      <td>...</td>\n      <td>...</td>\n      <td>...</td>\n      <td>...</td>\n      <td>...</td>\n      <td>...</td>\n      <td>...</td>\n    </tr>\n    <tr>\n      <th>157</th>\n      <td>666</td>\n      <td>Ilinskiy</td>\n      <td>RU</td>\n      <td>58.51</td>\n      <td>clear sky</td>\n      <td>55.6190</td>\n      <td>38.1182</td>\n      <td>Around the world</td>\n    </tr>\n    <tr>\n      <th>158</th>\n      <td>669</td>\n      <td>Wufeng</td>\n      <td>CN</td>\n      <td>51.21</td>\n      <td>overcast clouds</td>\n      <td>27.4500</td>\n      <td>104.8333</td>\n      <td>中山宾馆</td>\n    </tr>\n    <tr>\n      <th>159</th>\n      <td>675</td>\n      <td>Potosi</td>\n      <td>BO</td>\n      <td>46.76</td>\n      <td>scattered clouds</td>\n      <td>-19.5836</td>\n      <td>-65.7531</td>\n      <td>Hostal La Casona Potosí</td>\n    </tr>\n    <tr>\n      <th>160</th>\n      <td>676</td>\n      <td>Helong</td>\n      <td>CN</td>\n      <td>55.67</td>\n      <td>scattered clouds</td>\n      <td>42.5397</td>\n      <td>128.9972</td>\n      <td>Helong Hotel</td>\n    </tr>\n    <tr>\n      <th>161</th>\n      <td>677</td>\n      <td>Jiuquan</td>\n      <td>CN</td>\n      <td>59.70</td>\n      <td>clear sky</td>\n      <td>39.7432</td>\n      <td>98.5174</td>\n      <td>Jiuquan Hotel</td>\n    </tr>\n  </tbody>\n</table>\n<p>162 rows × 8 columns</p>\n</div>"
     },
     "metadata": {},
     "execution_count": 3
    }
   ],
   "source": [
    "# 1. Read the WeatherPy_vacation.csv into a DataFrame.\n",
    "vacation_df = pd.read_csv(\"../Vacation_Search/Weather_Search_Vacation.csv\")\n",
    "vacation_df"
   ]
  },
  {
   "cell_type": "code",
   "execution_count": 4,
   "metadata": {},
   "outputs": [],
   "source": [
    "# 2. Using the template add the city name, the country code, the weather description and maximum temperature for the city.\n",
    "info_box_template = \"\"\"<dl>\n",
    "<dt>Hotel Name</dt><dd>{Hotel Name}</dd>\n",
    "<dt>City</dt><dd>{City}</dd>\n",
    "<dt>Country</dt><dd>{Country}</dd>\n",
    "<dt>Weather Description</dt><dd>{Current Description}</dd>\n",
    "<dt>Max Temp</dt><dd>{Max Temp} °F</dd>\n",
    "</dl>\"\"\"\n",
    "\n",
    "# 3a. Get the data from each row and add it to the formatting template and store the data in a list.\n",
    "hotel_info = [info_box_template.format(**row) for index, row in vacation_df.iterrows()]\n",
    "\n",
    "# 3b. Get the latitude and longitude from each row and store in a new DataFrame.\n",
    "locations = vacation_df[[\"Lat\", \"Lng\"]]"
   ]
  },
  {
   "cell_type": "code",
   "execution_count": 5,
   "metadata": {},
   "outputs": [
    {
     "output_type": "display_data",
     "data": {
      "text/plain": "Figure(layout=FigureLayout(height='420px'))",
      "application/vnd.jupyter.widget-view+json": {
       "version_major": 2,
       "version_minor": 0,
       "model_id": "2af6b2f3b021414782582be54ffadf10"
      }
     },
     "metadata": {}
    }
   ],
   "source": [
    "# 4a. Add a marker layer for each city to the map.\n",
    "fig = gmaps.figure(center=(30.0, 31.0), zoom_level=1.4)\n",
    "marker_layer = gmaps.marker_layer(locations, info_box_content=hotel_info)\n",
    "fig.add_layer(marker_layer)\n",
    "# 4b. Display the figure\n",
    "fig"
   ]
  },
  {
   "cell_type": "code",
   "execution_count": 6,
   "metadata": {},
   "outputs": [
    {
     "output_type": "execute_result",
     "data": {
      "text/plain": [
       "     City_ID      City Country  Max Temp Current Description      Lat  \\\n",
       "121      520  Saldanha      ZA     51.85       broken clouds -33.0117   \n",
       "\n",
       "         Lng      Hotel Name  \n",
       "121  17.9442  Blue Bay Lodge  "
      ],
      "text/html": "<div>\n<style scoped>\n    .dataframe tbody tr th:only-of-type {\n        vertical-align: middle;\n    }\n\n    .dataframe tbody tr th {\n        vertical-align: top;\n    }\n\n    .dataframe thead th {\n        text-align: right;\n    }\n</style>\n<table border=\"1\" class=\"dataframe\">\n  <thead>\n    <tr style=\"text-align: right;\">\n      <th></th>\n      <th>City_ID</th>\n      <th>City</th>\n      <th>Country</th>\n      <th>Max Temp</th>\n      <th>Current Description</th>\n      <th>Lat</th>\n      <th>Lng</th>\n      <th>Hotel Name</th>\n    </tr>\n  </thead>\n  <tbody>\n    <tr>\n      <th>121</th>\n      <td>520</td>\n      <td>Saldanha</td>\n      <td>ZA</td>\n      <td>51.85</td>\n      <td>broken clouds</td>\n      <td>-33.0117</td>\n      <td>17.9442</td>\n      <td>Blue Bay Lodge</td>\n    </tr>\n  </tbody>\n</table>\n</div>"
     },
     "metadata": {},
     "execution_count": 6
    }
   ],
   "source": [
    "# From the map above pick 4 cities and create a vacation itinerary route to travel between the four cities. \n",
    "# 5. Create DataFrames for each city by filtering the 'vacation_df' using the loc method. \n",
    "# Hint: The starting and ending city should be the same city.\n",
    "\n",
    "vacation_start = vacation_df.loc[vacation_df[\"City\"] == \"Saldanha\"]\n",
    "vacation_end = vacation_df.loc[vacation_df[\"City\"] == \"Saldanha\"]\n",
    "vacation_stop1 = vacation_df.loc[vacation_df[\"City\"] == \"Bredasdorp\"]\n",
    "vacation_stop2 = vacation_df.loc[vacation_df[\"City\"] == \"Cape Town\"] \n",
    "vacation_stop3 = vacation_df.loc[vacation_df[\"City\"] == \"Hermanus\"] \n",
    "vacation_start"
   ]
  },
  {
   "cell_type": "code",
   "execution_count": 7,
   "metadata": {},
   "outputs": [
    {
     "output_type": "stream",
     "name": "stdout",
     "text": [
      "(-33.0117, 17.9442)\n(-33.0117, 17.9442)\n(-34.5322, 20.0403)\n"
     ]
    }
   ],
   "source": [
    "# 6. Get the latitude-longitude pairs as tuples from each city DataFrame using the to_numpy function and list indexing.\n",
    "start = vacation_start[\"Lat\"].to_numpy()[0], vacation_start[\"Lng\"].to_numpy()[0]\n",
    "end = vacation_end[\"Lat\"].to_numpy()[0], vacation_end[\"Lng\"].to_numpy()[0]\n",
    "stop1 = vacation_stop1[\"Lat\"].to_numpy()[0], vacation_stop1[\"Lng\"].to_numpy()[0]\n",
    "stop2 = vacation_stop2[\"Lat\"].to_numpy()[0], vacation_stop2[\"Lng\"].to_numpy()[0]\n",
    "stop3 = vacation_stop3[\"Lat\"].to_numpy()[0], vacation_stop3[\"Lng\"].to_numpy()[0]\n",
    "print(start)\n",
    "print(end)\n",
    "print(stop1)"
   ]
  },
  {
   "cell_type": "code",
   "execution_count": 12,
   "metadata": {
    "scrolled": true
   },
   "outputs": [
    {
     "output_type": "display_data",
     "data": {
      "text/plain": "Figure(layout=FigureLayout(height='420px'))",
      "application/vnd.jupyter.widget-view+json": {
       "version_major": 2,
       "version_minor": 0,
       "model_id": "3592a9847f8443faaa1a1b5bd10a2083"
      }
     },
     "metadata": {}
    }
   ],
   "source": [
    "# 7. Create a direction layer map using the start and end latitude-longitude pairs, and stop1, stop2, and stop3 as the waypoints. The travel_mode should be \"DRIVING\", \"BICYCLING\", or \"WALKING\".\n",
    "Bredasdorp = stop1\n",
    "Cape_Town = stop2\n",
    "Hermanus = stop3 \n",
    "fig = gmaps.figure(center = (-34.5, 18), zoom_level = 8)\n",
    "Saldanha_to_Saldanha = gmaps.directions_layer(start, end, \n",
    "                                  waypoints=[Bredasdorp, Cape_Town, Hermanus],\n",
    "                                  travel_mode = \"DRIVING\")\n",
    "fig.add_layer(Saldanha_to_Saldanha)\n",
    "fig"
   ]
  },
  {
   "cell_type": "code",
   "execution_count": 9,
   "metadata": {},
   "outputs": [
    {
     "output_type": "execute_result",
     "data": {
      "text/plain": [
       "   City_ID        City Country  Max Temp Current Description      Lat  \\\n",
       "0      520    Saldanha      ZA     51.85       broken clouds -33.0117   \n",
       "1       27  Bredasdorp      ZA     55.27     overcast clouds -34.5322   \n",
       "2       36   Cape Town      ZA     55.11     overcast clouds -33.9258   \n",
       "3       73    Hermanus      ZA     55.80     overcast clouds -34.4187   \n",
       "\n",
       "       Lng                         Hotel Name  \n",
       "0  17.9442                     Blue Bay Lodge  \n",
       "1  20.0403           Bredasdorp Country Manor  \n",
       "2  18.4232  Southern Sun Waterfront Cape Town  \n",
       "3  19.2345         Misty Waves Boutique Hotel  "
      ],
      "text/html": "<div>\n<style scoped>\n    .dataframe tbody tr th:only-of-type {\n        vertical-align: middle;\n    }\n\n    .dataframe tbody tr th {\n        vertical-align: top;\n    }\n\n    .dataframe thead th {\n        text-align: right;\n    }\n</style>\n<table border=\"1\" class=\"dataframe\">\n  <thead>\n    <tr style=\"text-align: right;\">\n      <th></th>\n      <th>City_ID</th>\n      <th>City</th>\n      <th>Country</th>\n      <th>Max Temp</th>\n      <th>Current Description</th>\n      <th>Lat</th>\n      <th>Lng</th>\n      <th>Hotel Name</th>\n    </tr>\n  </thead>\n  <tbody>\n    <tr>\n      <th>0</th>\n      <td>520</td>\n      <td>Saldanha</td>\n      <td>ZA</td>\n      <td>51.85</td>\n      <td>broken clouds</td>\n      <td>-33.0117</td>\n      <td>17.9442</td>\n      <td>Blue Bay Lodge</td>\n    </tr>\n    <tr>\n      <th>1</th>\n      <td>27</td>\n      <td>Bredasdorp</td>\n      <td>ZA</td>\n      <td>55.27</td>\n      <td>overcast clouds</td>\n      <td>-34.5322</td>\n      <td>20.0403</td>\n      <td>Bredasdorp Country Manor</td>\n    </tr>\n    <tr>\n      <th>2</th>\n      <td>36</td>\n      <td>Cape Town</td>\n      <td>ZA</td>\n      <td>55.11</td>\n      <td>overcast clouds</td>\n      <td>-33.9258</td>\n      <td>18.4232</td>\n      <td>Southern Sun Waterfront Cape Town</td>\n    </tr>\n    <tr>\n      <th>3</th>\n      <td>73</td>\n      <td>Hermanus</td>\n      <td>ZA</td>\n      <td>55.80</td>\n      <td>overcast clouds</td>\n      <td>-34.4187</td>\n      <td>19.2345</td>\n      <td>Misty Waves Boutique Hotel</td>\n    </tr>\n  </tbody>\n</table>\n</div>"
     },
     "metadata": {},
     "execution_count": 9
    }
   ],
   "source": [
    "# 8. To create a marker layer map between the four cities.\n",
    "#  Combine the four city DataFrames into one DataFrame using the concat() function.\n",
    "itinerary_df = pd.concat([vacation_start, vacation_stop1, \n",
    "                          vacation_stop2, vacation_stop3]\n",
    "                         ,ignore_index=True)\n",
    "itinerary_df"
   ]
  },
  {
   "cell_type": "code",
   "execution_count": 10,
   "metadata": {},
   "outputs": [],
   "source": [
    "# 9 Using the template add city name, the country code, the weather description and maximum temperature for the city. \n",
    "info_box_template = \"\"\"\n",
    "<dl>\n",
    "<dt>Hotel Name</dt><dd>{Hotel Name}</dd>\n",
    "<dt>City</dt><dd>{City}</dd>\n",
    "<dt>Country</dt><dd>{Country}</dd>\n",
    "<dt>Weather Description</dt><dd>{Current Description}</dd>\n",
    "<dt>Max Temp</dt><dd>{Max Temp} °F</dd>\n",
    "</dl>\n",
    "\"\"\"\n",
    "\n",
    "# 10a Get the data from each row and add it to the formatting template and store the data in a list.\n",
    "hotel_info = [info_box_template.format(**row) for index, row in itinerary_df.iterrows()]\n",
    "\n",
    "# 10b. Get the latitude and longitude from each row and store in a new DataFrame.\n",
    "locations_df = itinerary_df[[\"Lat\", \"Lng\"]]"
   ]
  },
  {
   "cell_type": "code",
   "execution_count": 13,
   "metadata": {},
   "outputs": [
    {
     "output_type": "display_data",
     "data": {
      "text/plain": "Figure(layout=FigureLayout(height='420px'))",
      "application/vnd.jupyter.widget-view+json": {
       "version_major": 2,
       "version_minor": 0,
       "model_id": "3592a9847f8443faaa1a1b5bd10a2083"
      }
     },
     "metadata": {}
    }
   ],
   "source": [
    "# 11a. Add a marker layer for each city to the map.\n",
    "marker_layer = gmaps.marker_layer(locations_df, info_box_content = hotel_info)\n",
    "# 11b. Display the figure\n",
    "fig.add_layer(marker_layer)\n",
    "fig"
   ]
  },
  {
   "cell_type": "code",
   "execution_count": null,
   "metadata": {},
   "outputs": [],
   "source": []
  }
 ],
 "metadata": {
  "kernelspec": {
   "name": "python394jvsc74a57bd04e16bc90bb1be4fcd3e766e2f5d73f05719f516a7206bf1e9e77281fd34acfc0",
   "display_name": "Python 3.9.4 64-bit ('PythonData': conda)"
  },
  "language_info": {
   "codemirror_mode": {
    "name": "ipython",
    "version": 3
   },
   "file_extension": ".py",
   "mimetype": "text/x-python",
   "name": "python",
   "nbconvert_exporter": "python",
   "pygments_lexer": "ipython3",
   "version": "3.9.4"
  },
  "latex_envs": {
   "LaTeX_envs_menu_present": true,
   "autoclose": false,
   "autocomplete": true,
   "bibliofile": "biblio.bib",
   "cite_by": "apalike",
   "current_citInitial": 1,
   "eqLabelWithNumbers": true,
   "eqNumInitial": 1,
   "hotkeys": {
    "equation": "Ctrl-E",
    "itemize": "Ctrl-I"
   },
   "labels_anchors": false,
   "latex_user_defs": false,
   "report_style_numbering": false,
   "user_envs_cfg": false
  },
  "metadata": {
   "interpreter": {
    "hash": "4e16bc90bb1be4fcd3e766e2f5d73f05719f516a7206bf1e9e77281fd34acfc0"
   }
  }
 },
 "nbformat": 4,
 "nbformat_minor": 2
}